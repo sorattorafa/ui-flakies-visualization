{
 "cells": [
  {
   "cell_type": "code",
   "execution_count": 5,
   "metadata": {},
   "outputs": [],
   "source": [
    "import matplotlib.pyplot as plt\n",
    "import pandas as pd\n",
    "from matplotlib.pyplot import pie, axis, show, scatter\n",
    "import numpy as np\n",
    "\n",
    "dataset = pd.read_csv('dataset.csv', \n",
    "    usecols=['Root Cause Category', 'Manifestation Category', 'Fix Category', 'How Fixed in Code'], sep=',')\n",
    "columns = dataset.columns.to_list()\n",
    "\n",
    "def make_scatterplots(dataset, columns):\n",
    "    x = dataset[columns[0]].value_counts().values\n",
    "    y = dataset[columns[1]].value_counts().values\n",
    "\n",
    "    # count = dataset[column].value_counts().values\n",
    "    # categories = dataset[column].value_counts().index\n",
    "\n",
    "    plt.scatter(x[:12], y[:12], s=x[:12]*10, c='red', alpha=0.5)\n",
    "    plt.show()\n",
    "    #plt.figure(figsize = (15, 8))\n",
    "    #dataset.value_counts().plot(kind='scatter', title='Scatter', x=columns[0], y=columns[1])\n",
    "    #plt.ylabel(\"Quantity\")\n",
    "    #plt.legend()"
   ]
  },
  {
   "cell_type": "code",
   "execution_count": 6,
   "metadata": {},
   "outputs": [
    {
     "data": {
      "image/png": "[encoded data removed]",
      "text/plain": [
       "<Figure size 432x288 with 1 Axes>"
      ]
     },
     "metadata": {
      "needs_background": "light"
     },
     "output_type": "display_data"
    }
   ],
   "source": [
    "make_scatterplots(dataset, ['Root Cause Category', 'Fix Category'])"
   ]
  }
 ],
 "metadata": {
  "interpreter": {
   "hash": "31f2aee4e71d21fbe5cf8b01ff0e069b9275f58929596ceb00d14d90e3e16cd6"
  },
  "kernelspec": {
   "display_name": "Python 3.8.2 64-bit",
   "name": "python3"
  },
  "language_info": {
   "codemirror_mode": {
    "name": "ipython",
    "version": 3
   },
   "file_extension": ".py",
   "mimetype": "text/x-python",
   "name": "python",
   "nbconvert_exporter": "python",
   "pygments_lexer": "ipython3",
   "version": "3.8.2"
  },
  "orig_nbformat": 4
 },
 "nbformat": 4,
 "nbformat_minor": 2
}
