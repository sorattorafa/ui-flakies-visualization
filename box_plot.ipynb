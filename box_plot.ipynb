{
 "cells": [
  {
   "cell_type": "code",
   "execution_count": 1,
   "metadata": {},
   "outputs": [
    {
     "data": {
      "image/png": "[encoded data removed]",
      "text/plain": [
       "<Figure size 432x288 with 1 Axes>"
      ]
     },
     "metadata": {
      "needs_background": "light"
     },
     "output_type": "display_data"
    }
   ],
   "source": [
    "import numpy as np\n",
    "import pandas as pd\n",
    "\n",
    "np.random.seed(1234)\n",
    "df = pd.DataFrame(np.random.randn(10, 4),\n",
    "                  columns=['Col1', 'Col2', 'Col3', 'Col4'])\n",
    "boxplot = df.boxplot(column=['Col1', 'Col2', 'Col3'])"
   ]
  },
  {
   "cell_type": "code",
   "execution_count": null,
   "metadata": {},
   "outputs": [],
   "source": [
    "#roots_causes = pd.read_csv('dataset.csv', \n",
    "#    usecols=['Root Cause Category'], sep=',')\n",
    "#print(roots_causes.groupby('Root Cause Category').size()) #MADE BY COPILOT\n",
    "#data = np.array(roots_causes)\n",
    "\n",
    "#fixes = pd.read_csv('dataset.csv', \n",
    "#    usecols=['Fix Category'], sep=',')\n",
    "#print(roots_causes.groupby('Root Cause Category').size()) #MADE BY COPILOT\n",
    "#datafixes = np.array(roots_causes)\n",
    "\n",
    "#v = []\n",
    "\n",
    "#for d in data:\n",
    "#    v.append(d[0])\n",
    "\n",
    "#for d in datafixes:\n",
    "#    v.append(d[0])\n",
    "\n",
    "#ser = pd.Series(v)\n",
    "\n",
    "\n",
    "#df = pd.DataFrame(roots_causes, columns=['Root Cause Category', 'Fix Category'])\n",
    "#df['X'] = pd.Series(ser)\n",
    "#print(df['X'])\n",
    "#boxplot = df.boxplot(by='X')\n",
    "#print(pd.Series(ser))\n",
    "#boxplot = df.boxplot()"
   ]
  }
 ],
 "metadata": {
  "interpreter": {
   "hash": "31f2aee4e71d21fbe5cf8b01ff0e069b9275f58929596ceb00d14d90e3e16cd6"
  },
  "kernelspec": {
   "display_name": "Python 3.8.2 64-bit",
   "name": "python3"
  },
  "language_info": {
   "codemirror_mode": {
    "name": "ipython",
    "version": 3
   },
   "file_extension": ".py",
   "mimetype": "text/x-python",
   "name": "python",
   "nbconvert_exporter": "python",
   "pygments_lexer": "ipython3",
   "version": "3.8.2"
  },
  "orig_nbformat": 4
 },
 "nbformat": 4,
 "nbformat_minor": 2
}
