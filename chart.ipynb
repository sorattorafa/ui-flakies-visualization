{
 "cells": [
  {
   "cell_type": "code",
   "execution_count": null,
   "metadata": {},
   "outputs": [],
   "source": [
    "#import matplotlib.pyplot as plt\n",
    "import pandas as pd\n",
    "#import numpy as np\n",
    "\n",
    "dataset = pd.read_csv('dataset.csv', usecols=['Root Cause Category', 'Manifestation Category', 'Fix Category', 'How Fixed in Code'], sep=',')\n",
    "columns = dataset.columns.to_list()\n",
    "\n",
    "print(dataset['Root Cause Category'].value_counts())\n",
    "print(dataset['Manifestation Category'].value_counts())\n",
    "print(dataset['Fix Category'].value_counts())\n",
    "\n",
    "##boxplot funcs\n",
    "#np.random.seed(1234)\n",
    "#df = pd.DataFrame(dataset,columns)\n",
    "#df.boxplot(['Fix Category'])\n",
    "#df.boxplot(column =['Fix Category'], grid = False)\n",
    "#boxplot = df.boxplot(column=['Fix Category', 'How Fixed in Code'])"
   ]
  }
 ],
 "metadata": {
  "language_info": {
   "name": "python"
  },
  "orig_nbformat": 4
 },
 "nbformat": 4,
 "nbformat_minor": 2
}
