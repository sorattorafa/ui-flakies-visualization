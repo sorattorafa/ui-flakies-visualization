{
 "cells": [
  {
   "cell_type": "code",
   "execution_count": 1,
   "metadata": {},
   "outputs": [
    {
     "name": "stdout",
     "output_type": "stream",
     "text": [
      "Resource Rendering                   58\n",
      "Platform Issue                       36\n",
      "Animation Timing Issue               26\n",
      "Incorrect Test Runner Interaction    25\n",
      "Incorrect Resource Load Order        21\n",
      "Network Resource Loading             19\n",
      "DOM Selector Issue                   16\n",
      "Test Order Dependency                12\n",
      "Layout Difference                    11\n",
      "Unordered Collections                 5\n",
      "Randomness                            5\n",
      "Time                                  1\n",
      "Name: Root Cause Category, dtype: int64\n",
      "Unspecified                                       131\n",
      "Run on Specific Platform                           21\n",
      "Specify Problematic Platform                       17\n",
      "Provide Example                                    14\n",
      "Force Environment Conditions                       12\n",
      "Change Timing Interval                              8\n",
      "Run Tests Outside of Test Suite Context（reset）      7\n",
      "Rerun Multiple Times                                6\n",
      "Provide Code Snippet                                5\n",
      "Provide Steps                                       5\n",
      "Run Tests Outside of Test Suite Context             3\n",
      "Selectively Run Test                                3\n",
      "Forcibly Clear Data                                 2\n",
      "Run in CI                                           1\n",
      "Name: Manifestation Category, dtype: int64\n",
      "Refactor Logic Implementation         61\n",
      "Fix Await Mechanism                   43\n",
      "Remove Test                           41\n",
      "Mark Test as Flaky                    28\n",
      "Add/Increase Delay                    20\n",
      "Use Workaround                        13\n",
      "\\tFix API Access                      12\n",
      "Change Library Version                 6\n",
      "Blacklist Test                         4\n",
      "Disable Animations                     4\n",
      "Update/Revert Library Version          1\n",
      "Fix Incorrect/Change API Access        1\n",
      "Add/Increase Delay; Fix API Access     1\n",
      "Name: Fix Category, dtype: int64\n"
     ]
    }
   ],
   "source": [
    "#import matplotlib.pyplot as plt\n",
    "import pandas as pd\n",
    "#import numpy as np\n",
    "\n",
    "dataset = pd.read_csv('dataset.csv', usecols=['Root Cause Category', 'Manifestation Category', 'Fix Category', 'How Fixed in Code'], sep=',')\n",
    "columns = dataset.columns.to_list()\n",
    "\n",
    "print(dataset['Root Cause Category'].value_counts())\n",
    "print(dataset['Manifestation Category'].value_counts())\n",
    "print(dataset['Fix Category'].value_counts())\n",
    "\n",
    "##boxplot funcs\n",
    "#np.random.seed(1234)\n",
    "#df = pd.DataFrame(dataset,columns)\n",
    "#df.boxplot(['Fix Category'])\n",
    "#df.boxplot(column =['Fix Category'], grid = False)\n",
    "#boxplot = df.boxplot(column=['Fix Category', 'How Fixed in Code'])"
   ]
  }
 ],
 "metadata": {
  "interpreter": {
   "hash": "31f2aee4e71d21fbe5cf8b01ff0e069b9275f58929596ceb00d14d90e3e16cd6"
  },
  "kernelspec": {
   "display_name": "Python 3.8.2 64-bit",
   "name": "python3"
  },
  "language_info": {
   "codemirror_mode": {
    "name": "ipython",
    "version": 3
   },
   "file_extension": ".py",
   "mimetype": "text/x-python",
   "name": "python",
   "nbconvert_exporter": "python",
   "pygments_lexer": "ipython3",
   "version": "3.8.2"
  },
  "orig_nbformat": 4
 },
 "nbformat": 4,
 "nbformat_minor": 2
}
